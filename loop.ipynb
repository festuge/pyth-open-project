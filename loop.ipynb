{
  "nbformat": 4,
  "nbformat_minor": 0,
  "metadata": {
    "colab": {
      "provenance": [],
      "toc_visible": true,
      "authorship_tag": "ABX9TyMOMBsZ5w0vcHCJ8CigIOVf",
      "include_colab_link": true
    },
    "kernelspec": {
      "name": "python3",
      "display_name": "Python 3"
    },
    "language_info": {
      "name": "python"
    }
  },
  "cells": [
    {
      "cell_type": "markdown",
      "metadata": {
        "id": "view-in-github",
        "colab_type": "text"
      },
      "source": [
        "<a href=\"https://colab.research.google.com/github/festuge/pyth-open-project/blob/main/loop.ipynb\" target=\"_parent\"><img src=\"https://colab.research.google.com/assets/colab-badge.svg\" alt=\"Open In Colab\"/></a>"
      ]
    },
    {
      "cell_type": "code",
      "execution_count": 4,
      "metadata": {
        "colab": {
          "base_uri": "https://localhost:8080/"
        },
        "id": "ZvIV4NINVAWJ",
        "outputId": "d69fc2c0-7dc3-4fb7-d62b-c7538c19af87"
      },
      "outputs": [
        {
          "output_type": "stream",
          "name": "stdout",
          "text": [
            "Done\n"
          ]
        }
      ],
      "source": [
        "temperature = 25\n",
        "if temperature > 30:\n",
        "  print(\"It's a hot day\")\n",
        "  print(\"Drink plenty of water\")\n",
        "print('Done')"
      ]
    },
    {
      "cell_type": "code",
      "source": [
        "temperature = 25\n",
        "if temperature > 30:\n",
        "  print(\"It's a hot day\")\n",
        "  print(\"Drink plenty of water\")\n",
        "elif temperature > 20:\n",
        "  print(\"It's a nice day\")\n",
        "print(\"Done\")"
      ],
      "metadata": {
        "colab": {
          "base_uri": "https://localhost:8080/"
        },
        "id": "Rzbk6ypwWcBi",
        "outputId": "8784dbc6-c1ae-4e9e-b9d9-fac248b8f898"
      },
      "execution_count": 5,
      "outputs": [
        {
          "output_type": "stream",
          "name": "stdout",
          "text": [
            "It's a nice day\n",
            "Done\n"
          ]
        }
      ]
    },
    {
      "cell_type": "code",
      "source": [],
      "metadata": {
        "id": "cxUPU2RLYuwQ"
      },
      "execution_count": null,
      "outputs": []
    },
    {
      "cell_type": "code",
      "source": [
        "temperature = 5\n",
        "if temperature > 30:\n",
        "  print(\"It's a hot day\")\n",
        "  print(\"Drink plenty of water\")\n",
        "elif temperature > 20:\n",
        "  print(\"It's a nice day\")\n",
        "elif temperature > 10:\n",
        "  print(\"It's a bit cold\")\n",
        "else:\n",
        "  print(\"It's cold\")"
      ],
      "metadata": {
        "colab": {
          "base_uri": "https://localhost:8080/"
        },
        "outputId": "614ae6ff-bd4f-4b1c-cd2c-31eb91ea79c8",
        "id": "AH2QWOXJaBoo"
      },
      "execution_count": 9,
      "outputs": [
        {
          "output_type": "stream",
          "name": "stdout",
          "text": [
            "It's cold\n"
          ]
        }
      ]
    },
    {
      "cell_type": "code",
      "source": [
        "weight = 76.5\n",
        "if weight > 110:\n",
        "  print(\"You should do more exercise\")\n",
        "elif weight > 170:\n",
        "  print(\"You're getting obesse\")\n",
        "else:\n",
        "  print(\"Go to bed early and drink more water\")"
      ],
      "metadata": {
        "colab": {
          "base_uri": "https://localhost:8080/"
        },
        "id": "hXhkMgYCamKj",
        "outputId": "5b4f332e-52df-45c1-a962-07e55fd93c5e"
      },
      "execution_count": 14,
      "outputs": [
        {
          "output_type": "stream",
          "name": "stdout",
          "text": [
            "Go to bed early and drink more water\n"
          ]
        }
      ]
    },
    {
      "cell_type": "markdown",
      "source": [
        "you tube project"
      ],
      "metadata": {
        "id": "6neyDrlQjfoo"
      }
    },
    {
      "cell_type": "code",
      "source": [
        "weight = int(input(\"Weight: \"))\n",
        "unit = input(\"(K)g or (L)bs: \")\n",
        "if unit.upper() == \"K\":\n",
        "  converted = weight / 0.45\n",
        "  print(\"Weight in Lbs: \" + str(converted))\n",
        "else:\n",
        "  converted = weight * 0.45\n",
        "  print(\"Weight in Kgs: \" + str(converted))"
      ],
      "metadata": {
        "colab": {
          "base_uri": "https://localhost:8080/"
        },
        "id": "uJD53j1Mjl0p",
        "outputId": "b6e6dc17-4925-4524-ce23-361e2d242e89"
      },
      "execution_count": 18,
      "outputs": [
        {
          "output_type": "stream",
          "name": "stdout",
          "text": [
            "Weight: 150\n",
            "(K)g or (L)bs: l\n",
            "Weight in Kgs: 67.5\n"
          ]
        }
      ]
    }
  ]
}